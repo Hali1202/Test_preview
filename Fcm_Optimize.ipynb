{
 "cells": [
  {
   "cell_type": "code",
   "execution_count": null,
   "id": "1a6c91a0",
   "metadata": {},
   "outputs": [],
   "source": [
    "import numpy as np\n",
    "import skfuzzy as fuzz\n",
    "import pandas as pd\n",
    "import matplotlib.pyplot as plt\n",
    "# ------------------------------------------------------------------\n",
    "from sklearn.metrics import silhouette_score, davies_bouldin_score, calinski_harabasz_score\n",
    "from tabulate import tabulate"
   ]
  },
  {
   "cell_type": "code",
   "execution_count": null,
   "id": "14693098",
   "metadata": {},
   "outputs": [],
   "source": [
    "#Data\n",
    "df = pd.read_csv(\"C:/Users/Hali/Documents/Python/Mall_Customers_preprocessed.csv\")\n",
    "X = df.drop(columns=[\"customerid\"])\n",
    "data = X.values.T  # FCM yêu cầu dạng (features, samples)"
   ]
  },
  {
   "cell_type": "code",
   "execution_count": null,
   "id": "30dbdee2",
   "metadata": {},
   "outputs": [],
   "source": [
    "#Optimize\n",
    "results = []"
   ]
  },
  {
   "cell_type": "code",
   "execution_count": null,
   "id": "8ed7469d",
   "metadata": {},
   "outputs": [],
   "source": [
    "for c in range(2, 11):\n",
    "    for m in [1.5, 2.0, 2.5]:   #Các giá trị m thường dùng\n",
    "        cntr, u, _, _, _, _, _ = fuzz.cluster.cmeans(\n",
    "            data, c=c, m=m, error=0.005, maxiter=1000, init=None, seed=42)\n",
    "\n",
    "        labels = np.argmax(u, axis=0)\n",
    "        silhouette = silhouette_score(X, labels)\n",
    "        dbi = davies_bouldin_score(X, labels)\n",
    "        chi = calinski_harabasz_score(X, labels)\n",
    "\n",
    "        results.append({\n",
    "            \"Số cụm\": c,\n",
    "            \"m\": m,\n",
    "            \"Silhouette\": round(silhouette, 4),\n",
    "            \"Davies-Bouldin\": round(dbi, 4),\n",
    "            \"Calinski-Harabasz\": round(chi, 2)\n",
    "        })"
   ]
  },
  {
   "cell_type": "code",
   "execution_count": null,
   "id": "30bc3a43",
   "metadata": {},
   "outputs": [],
   "source": [
    "#Bảng kết quả\n",
    "df_results = pd.DataFrame(results)\n",
    "print(f\"Bảng so sánh, chỉ số Silhouette giảm dần\")\n",
    "print(tabulate(df_results.sort_values(\"Silhouette\", ascending=False).reset_index(drop=True), headers='keys', tablefmt='grid'))"
   ]
  },
  {
   "cell_type": "code",
   "execution_count": null,
   "id": "60169f65",
   "metadata": {},
   "outputs": [],
   "source": [
    "#Vẽ biểu đồ\n",
    "plt.figure(figsize=(10, 5))\n",
    "plt.plot(df_results[\"Số cụm\"], df_results[\"Silhouette\"], marker='o', label='Silhouette')\n",
    "plt.plot(df_results[\"Số cụm\"], df_results[\"Davies-Bouldin\"], marker='s', label='DBI')\n",
    "plt.plot(df_results[\"Số cụm\"], df_results[\"Calinski-Harabasz\"] / 1000, marker='^', label='CHI')\n",
    "plt.title(\"Fuzzy C-Means Test\")\n",
    "plt.xlabel(\"Số cụm\")\n",
    "plt.legend()\n",
    "plt.grid(True)\n",
    "plt.show()"
   ]
  }
 ],
 "metadata": {
  "jupytext": {
   "cell_metadata_filter": "-all",
   "main_language": "python",
   "notebook_metadata_filter": "-all"
  }
 },
 "nbformat": 4,
 "nbformat_minor": 5
}
