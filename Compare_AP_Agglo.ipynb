{
 "cells": [
  {
   "cell_type": "code",
   "execution_count": null,
   "id": "b69f856d",
   "metadata": {},
   "outputs": [],
   "source": [
    "import numpy as np\n",
    "import pandas as pd\n",
    "import matplotlib.pyplot as plt\n",
    "import seaborn as sns\n",
    "import warnings\n",
    "warnings.filterwarnings(\"ignore\")\n",
    "# ------------------------------------------------------------------\n",
    "from sklearn.decomposition import PCA\n",
    "from scipy.cluster.hierarchy import dendrogram, linkage\n",
    "from tabulate import tabulate\n",
    "# ------------------------------------------------------------------\n",
    "from sklearn.cluster import AffinityPropagation\n",
    "from sklearn.cluster import AgglomerativeClustering\n",
    "# ------------------------------------------------------------------\n",
    "from sklearn.metrics import silhouette_score, calinski_harabasz_score, davies_bouldin_score"
   ]
  },
  {
   "cell_type": "code",
   "execution_count": null,
   "id": "550ceea0",
   "metadata": {},
   "outputs": [],
   "source": [
    "df = pd.read_csv(\"C:/Users/Hali/Documents/Python/Mall_Customers_preprocessed.csv\")\n",
    "X = df.drop(columns=[\"customerid\"])"
   ]
  },
  {
   "cell_type": "code",
   "execution_count": null,
   "id": "c1741dd0",
   "metadata": {},
   "outputs": [],
   "source": [
    "data = df.drop(columns=[\"customerid\",],axis=1,)\n",
    "X = data.copy()"
   ]
  },
  {
   "cell_type": "code",
   "execution_count": null,
   "id": "7b2a944e",
   "metadata": {},
   "outputs": [],
   "source": [
    "print(f\"Mall_Customers_preprocessed\")\n",
    "print(tabulate(X.head(), headers='keys', tablefmt='grid'))"
   ]
  },
  {
   "cell_type": "code",
   "execution_count": null,
   "id": "ca24867c",
   "metadata": {},
   "outputs": [],
   "source": [
    "linked = linkage(X, method='ward')"
   ]
  },
  {
   "cell_type": "code",
   "execution_count": null,
   "id": "41fbb1c8",
   "metadata": {},
   "outputs": [],
   "source": [
    "#Vẽ biểu đồ Dendrogram - Thể hiện khoảng cách các cụm\n",
    "plt.figure(figsize=(12, 6))\n",
    "dendrogram(linked,\n",
    "           orientation='top',\n",
    "           distance_sort='descending',\n",
    "           show_leaf_counts=False)\n",
    "plt.title(\"Dendrogram - Agglomerative\")\n",
    "plt.xlabel(\"CustomerID\")\n",
    "plt.ylabel(\"Distance\")\n",
    "plt.grid(True)\n",
    "plt.tight_layout()\n",
    "plt.show()"
   ]
  },
  {
   "cell_type": "code",
   "execution_count": null,
   "id": "69c2dd77",
   "metadata": {},
   "outputs": [],
   "source": [
    "#Thực hiện Agglomerative\n",
    "agg = AgglomerativeClustering(n_clusters=6, linkage='ward') #Số lượng cụm đã được Optimize\n",
    "agg_labels = agg.fit_predict(X)"
   ]
  },
  {
   "cell_type": "code",
   "execution_count": null,
   "id": "ae2d435e",
   "metadata": {},
   "outputs": [],
   "source": [
    "n_clusters_agg = len(np.unique(agg_labels))\n",
    "silhouette_agg = silhouette_score(X, agg_labels)\n",
    "davies_bouldin_agg = davies_bouldin_score(X, agg_labels)\n",
    "calinski_harabasz_agg = calinski_harabasz_score(X, agg_labels)\n",
    "print(f\"Agglomerative:\")\n",
    "print(f\"- Số lượng cụm: {n_clusters_agg}\")\n",
    "print(f\"- Silhouette Score: {silhouette_agg:.3f}\")\n",
    "print(f\"- Davies Bouldin: {davies_bouldin_agg:.3f}\")\n",
    "print(f\"- Calinski Harabaz: {calinski_harabasz_agg:.3f}\")"
   ]
  },
  {
   "cell_type": "code",
   "execution_count": null,
   "id": "327bf5df",
   "metadata": {},
   "outputs": [],
   "source": [
    "#Giảm số chiều về 2\n",
    "pca = PCA(n_components=2)\n",
    "X_pca = pca.fit_transform(X)"
   ]
  },
  {
   "cell_type": "code",
   "execution_count": null,
   "id": "a0a3832a",
   "metadata": {},
   "outputs": [],
   "source": [
    "plt.figure(figsize=(8, 6))\n",
    "scatter = plt.scatter(X_pca[:, 0], X_pca[:, 1], c=agg_labels, cmap='rainbow', s=50)\n",
    "plt.title(\"Agglomerative\")\n",
    "plt.grid(True)\n",
    "plt.colorbar(scatter, label='Cluster')\n",
    "plt.tight_layout()\n",
    "plt.show()"
   ]
  },
  {
   "cell_type": "code",
   "execution_count": null,
   "id": "f401af9f",
   "metadata": {},
   "outputs": [],
   "source": [
    "#Thực hiện Affinity Propagation Default\n",
    "ap = AffinityPropagation()\n",
    "ap_labels = ap.fit_predict(X)"
   ]
  },
  {
   "cell_type": "code",
   "execution_count": null,
   "id": "18306608",
   "metadata": {},
   "outputs": [],
   "source": [
    "n_clusters_ap = len(np.unique(ap_labels))\n",
    "silhouette_ap = silhouette_score(X, ap_labels)\n",
    "davies_bouldin_ap = davies_bouldin_score(X, ap_labels)\n",
    "calinski_harabasz_ap = calinski_harabasz_score(X, ap_labels)"
   ]
  },
  {
   "cell_type": "code",
   "execution_count": null,
   "id": "04d91054",
   "metadata": {},
   "outputs": [],
   "source": [
    "print(f\"Affinity Propagation:\")\n",
    "print(f\"- Số lượng cụm: {n_clusters_ap}\")\n",
    "print(f\"- Silhouette Score: {silhouette_ap:.3f}\")\n",
    "print(f\"- Davies Bouldin: {davies_bouldin_ap:.3f}\")\n",
    "print(f\"- Calinski Harabaz: {calinski_harabasz_ap:.3f}\")"
   ]
  },
  {
   "cell_type": "code",
   "execution_count": null,
   "id": "89365d87",
   "metadata": {},
   "outputs": [],
   "source": [
    "#Giảm số chiều về 2\n",
    "X_2d = PCA(n_components=2).fit_transform(X)\n",
    "labels = ap.labels_\n",
    "exemplars = ap.cluster_centers_indices_"
   ]
  },
  {
   "cell_type": "code",
   "execution_count": null,
   "id": "804bab12",
   "metadata": {},
   "outputs": [],
   "source": [
    "plt.figure(figsize=(15, 6))\n",
    "for cluster in set(labels):\n",
    "    plt.scatter(\n",
    "        X_2d[labels == cluster, 0],\n",
    "        X_2d[labels == cluster, 1],\n",
    "        label=f\"Cluster {cluster}\",\n",
    "    )"
   ]
  },
  {
   "cell_type": "code",
   "execution_count": null,
   "id": "ea90ec97",
   "metadata": {},
   "outputs": [],
   "source": [
    "plt.scatter(\n",
    "    X_2d[exemplars, 0],\n",
    "    X_2d[exemplars, 1],\n",
    "    c=\"black\",\n",
    "    marker=\"x\",\n",
    "    s=250,\n",
    "    label=\"Exemplars\",\n",
    "    edgecolors=\"white\",\n",
    ")"
   ]
  },
  {
   "cell_type": "code",
   "execution_count": null,
   "id": "dd0975ae",
   "metadata": {},
   "outputs": [],
   "source": [
    "plt.legend()\n",
    "plt.title(\"Affinity Propagation\")\n",
    "plt.show()"
   ]
  },
  {
   "cell_type": "code",
   "execution_count": null,
   "id": "7a1bea39",
   "metadata": {},
   "outputs": [],
   "source": [
    "#Bảng so sánh:\n",
    "results = pd.DataFrame([\n",
    "    {\n",
    "        \"Thuật toán\": \"Affinity Propagation\",\n",
    "        \"Số cụm\": n_clusters_ap,\n",
    "        \"Silhouette\": round(silhouette_ap, 3),\n",
    "        \"Davies-Bouldin\": round(davies_bouldin_ap, 3),\n",
    "        \"Calinski-Harabasz\": round(calinski_harabasz_ap, 3)\n",
    "    },\n",
    "    {\n",
    "        \"Thuật toán\": \"Agglomerative\",\n",
    "        \"Số cụm\": 4,\n",
    "        \"Silhouette\": round(silhouette_agg, 3),\n",
    "        \"Davies-Bouldin\": round(davies_bouldin_agg, 3),\n",
    "        \"Calinski-Harabasz\": round(calinski_harabasz_agg, 3)\n",
    "    }\n",
    "])"
   ]
  },
  {
   "cell_type": "code",
   "execution_count": null,
   "id": "b5654084",
   "metadata": {},
   "outputs": [],
   "source": [
    "# In bảng so sánh\n",
    "print(\"\\nBảng so sánh kết quả phân cụm:\")\n",
    "print(tabulate(results, headers='keys', tablefmt='grid'))"
   ]
  }
 ],
 "metadata": {
  "jupytext": {
   "cell_metadata_filter": "-all",
   "main_language": "python",
   "notebook_metadata_filter": "-all"
  },
  "kernelspec": {
   "display_name": "Python 3 (ipykernel)",
   "language": "python",
   "name": "python3"
  },
  "language_info": {
   "codemirror_mode": {
    "name": "ipython",
    "version": 3
   },
   "file_extension": ".py",
   "mimetype": "text/x-python",
   "name": "python",
   "nbconvert_exporter": "python",
   "pygments_lexer": "ipython3",
   "version": "3.13.2"
  }
 },
 "nbformat": 4,
 "nbformat_minor": 5
}
